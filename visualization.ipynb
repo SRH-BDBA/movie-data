{
 "metadata": {
  "language_info": {
   "codemirror_mode": {
    "name": "ipython",
    "version": 3
   },
   "file_extension": ".py",
   "mimetype": "text/x-python",
   "name": "python",
   "nbconvert_exporter": "python",
   "pygments_lexer": "ipython3",
   "version": "3.8.5-final"
  },
  "orig_nbformat": 2,
  "kernelspec": {
   "name": "python38564bitmoviedataenvvenv122e985eca4f4b23ab97e80c491e6e56",
   "display_name": "Python 3.8.5 64-bit ('movie-data-env': venv)",
   "language": "python"
  }
 },
 "nbformat": 4,
 "nbformat_minor": 2,
 "cells": [
  {
   "cell_type": "code",
   "execution_count": 1,
   "metadata": {},
   "outputs": [
    {
     "output_type": "error",
     "ename": "SyntaxError",
     "evalue": "invalid syntax (dbQueries.py, line 20)",
     "traceback": [
      "Traceback \u001b[0;36m(most recent call last)\u001b[0m:\n",
      "  File \u001b[1;32m\"/home/paolo/Documents/Paolo2020/Github/movie-data/movie-data-env/lib/python3.8/site-packages/IPython/core/interactiveshell.py\"\u001b[0m, line \u001b[1;32m3418\u001b[0m, in \u001b[1;35mrun_code\u001b[0m\n    exec(code_obj, self.user_global_ns, self.user_ns)\n",
      "\u001b[0;36m  File \u001b[0;32m\"<ipython-input-1-2eacbb0323cc>\"\u001b[0;36m, line \u001b[0;32m5\u001b[0;36m, in \u001b[0;35m<module>\u001b[0;36m\u001b[0m\n\u001b[0;31m    import dbQueries\u001b[0m\n",
      "\u001b[0;36m  File \u001b[0;32m\"/home/paolo/Documents/Paolo2020/Github/movie-data/dbQueries.py\"\u001b[0;36m, line \u001b[0;32m20\u001b[0m\n\u001b[0;31m    print(f\" Movies in English: {collection.count(({\"original_language\":\"en\"})}\")\u001b[0m\n\u001b[0m                                                     ^\u001b[0m\n\u001b[0;31mSyntaxError\u001b[0m\u001b[0;31m:\u001b[0m invalid syntax\n"
     ]
    }
   ],
   "source": [
    "import math\n",
    "from datetime import datetime\n",
    "import json\n",
    "from pymongo import MongoClient\n",
    "import dbQueries\n",
    "import pandas as pd"
   ]
  },
  {
   "cell_type": "code",
   "execution_count": 2,
   "metadata": {
    "tags": []
   },
   "outputs": [
    {
     "output_type": "error",
     "ename": "NameError",
     "evalue": "name 'getMoviesReleaseYear' is not defined",
     "traceback": [
      "\u001b[0;31m---------------------------------------------------------------------------\u001b[0m",
      "\u001b[0;31mNameError\u001b[0m                                 Traceback (most recent call last)",
      "\u001b[0;32m<ipython-input-2-fb0aa935eb75>\u001b[0m in \u001b[0;36m<module>\u001b[0;34m\u001b[0m\n\u001b[1;32m      1\u001b[0m \u001b[0;31m# Display results per genre\u001b[0m\u001b[0;34m\u001b[0m\u001b[0;34m\u001b[0m\u001b[0;34m\u001b[0m\u001b[0m\n\u001b[0;32m----> 2\u001b[0;31m \u001b[0mgetMoviesReleaseYear\u001b[0m\u001b[0;34m(\u001b[0m\u001b[0;34m)\u001b[0m\u001b[0;34m\u001b[0m\u001b[0;34m\u001b[0m\u001b[0m\n\u001b[0m\u001b[1;32m      3\u001b[0m \u001b[0;31m#re_json = dbQueries.getTopGenres(10)\u001b[0m\u001b[0;34m\u001b[0m\u001b[0;34m\u001b[0m\u001b[0;34m\u001b[0m\u001b[0m\n\u001b[1;32m      4\u001b[0m \u001b[0;31m#df = pd.DataFrame.from_dict(re_json)\u001b[0m\u001b[0;34m\u001b[0m\u001b[0;34m\u001b[0m\u001b[0;34m\u001b[0m\u001b[0m\n\u001b[1;32m      5\u001b[0m \u001b[0;31m#df.head(5)\u001b[0m\u001b[0;34m\u001b[0m\u001b[0;34m\u001b[0m\u001b[0;34m\u001b[0m\u001b[0m\n",
      "\u001b[0;31mNameError\u001b[0m: name 'getMoviesReleaseYear' is not defined"
     ]
    }
   ],
   "source": [
    "# Display results per genre\n",
    "dbQueries.getMoviesReleaseYear()\n",
    "#re_json = dbQueries.getTopGenres(10)\n",
    "#df = pd.DataFrame.from_dict(re_json)\n",
    "#df.head(5)"
   ]
  },
  {
   "cell_type": "code",
   "execution_count": 3,
   "metadata": {},
   "outputs": [
    {
     "output_type": "execute_result",
     "data": {
      "text/plain": [
       "     production_companies  noMovies  avgPopularity  avgVotesNo    avgBudget  \\\n",
       "0             PassionFlix         3         14.914    1222.667          0.0   \n",
       "1    Walt Disney Pictures         2        945.029    2448.500   75000000.0   \n",
       "2            RadicalMedia         2         16.096     430.000          0.0   \n",
       "3  Warner Bros. Animation         2        433.959     796.000          0.0   \n",
       "4                   Pixar         1       1870.527    4299.000  150000000.0   \n",
       "\n",
       "   avgRevenue  avgVotes  \n",
       "0         0.0       8.9  \n",
       "1  28700000.0       8.4  \n",
       "2         0.0       8.7  \n",
       "3         0.0       8.4  \n",
       "4  57400000.0       8.3  "
      ],
      "text/html": "<div>\n<style scoped>\n    .dataframe tbody tr th:only-of-type {\n        vertical-align: middle;\n    }\n\n    .dataframe tbody tr th {\n        vertical-align: top;\n    }\n\n    .dataframe thead th {\n        text-align: right;\n    }\n</style>\n<table border=\"1\" class=\"dataframe\">\n  <thead>\n    <tr style=\"text-align: right;\">\n      <th></th>\n      <th>production_companies</th>\n      <th>noMovies</th>\n      <th>avgPopularity</th>\n      <th>avgVotesNo</th>\n      <th>avgBudget</th>\n      <th>avgRevenue</th>\n      <th>avgVotes</th>\n    </tr>\n  </thead>\n  <tbody>\n    <tr>\n      <th>0</th>\n      <td>PassionFlix</td>\n      <td>3</td>\n      <td>14.914</td>\n      <td>1222.667</td>\n      <td>0.0</td>\n      <td>0.0</td>\n      <td>8.9</td>\n    </tr>\n    <tr>\n      <th>1</th>\n      <td>Walt Disney Pictures</td>\n      <td>2</td>\n      <td>945.029</td>\n      <td>2448.500</td>\n      <td>75000000.0</td>\n      <td>28700000.0</td>\n      <td>8.4</td>\n    </tr>\n    <tr>\n      <th>2</th>\n      <td>RadicalMedia</td>\n      <td>2</td>\n      <td>16.096</td>\n      <td>430.000</td>\n      <td>0.0</td>\n      <td>0.0</td>\n      <td>8.7</td>\n    </tr>\n    <tr>\n      <th>3</th>\n      <td>Warner Bros. Animation</td>\n      <td>2</td>\n      <td>433.959</td>\n      <td>796.000</td>\n      <td>0.0</td>\n      <td>0.0</td>\n      <td>8.4</td>\n    </tr>\n    <tr>\n      <th>4</th>\n      <td>Pixar</td>\n      <td>1</td>\n      <td>1870.527</td>\n      <td>4299.000</td>\n      <td>150000000.0</td>\n      <td>57400000.0</td>\n      <td>8.3</td>\n    </tr>\n  </tbody>\n</table>\n</div>"
     },
     "metadata": {},
     "execution_count": 3
    }
   ],
   "source": [
    "# Display results per production companies\n",
    "re_json = dbQueries.getTopProductionCompanies(10)\n",
    "df = pd.DataFrame.from_dict(re_json)\n",
    "df.head(5)"
   ]
  },
  {
   "cell_type": "code",
   "execution_count": 4,
   "metadata": {},
   "outputs": [
    {
     "output_type": "execute_result",
     "data": {
      "text/plain": [
       "                                              title  \\\n",
       "0  Me contro Te: Il film - La vendetta del Signor S   \n",
       "1              Veinteañera, divorciada y fantástica   \n",
       "2                                My Octopus Teacher   \n",
       "3         Mortal Kombat Legends: Scorpion's Revenge   \n",
       "4                Justice League Dark: Apokolips War   \n",
       "\n",
       "                                              genres  budget  popularity  \\\n",
       "0                                   [Comedy, Family]   75000       6.904   \n",
       "1                                           [Comedy]       0     171.824   \n",
       "2                                      [Documentary]       0      22.802   \n",
       "3            [Fantasy, Action, Adventure, Animation]       0     823.472   \n",
       "4  [Animation, Action, Adventure, Fantasy, Scienc...       0      44.445   \n",
       "\n",
       "                                production_companies  \\\n",
       "0  [Colorado Film, Warner Bros Pictures Italia, M...   \n",
       "1                 [Different Films, All About Media]   \n",
       "2                                                 []   \n",
       "3      [Warner Bros. Animation, NetherRealm Studios]   \n",
       "4  [Warner Bros. Animation, DC Entertainment, DC ...   \n",
       "\n",
       "         production_countries  revenue  runtime    status  vote_avg  \\\n",
       "0                     [Italy]        0        0  Released       8.4   \n",
       "1                    [Mexico]        0       93  Released       8.2   \n",
       "2              [South Africa]        0       84  Released       8.3   \n",
       "3  [United States of America]        0       80  Released       8.4   \n",
       "4  [United States of America]        0       90  Released       8.4   \n",
       "\n",
       "   vote_count  \n",
       "0         387  \n",
       "1         297  \n",
       "2         144  \n",
       "3         728  \n",
       "4         864  "
      ],
      "text/html": "<div>\n<style scoped>\n    .dataframe tbody tr th:only-of-type {\n        vertical-align: middle;\n    }\n\n    .dataframe tbody tr th {\n        vertical-align: top;\n    }\n\n    .dataframe thead th {\n        text-align: right;\n    }\n</style>\n<table border=\"1\" class=\"dataframe\">\n  <thead>\n    <tr style=\"text-align: right;\">\n      <th></th>\n      <th>title</th>\n      <th>genres</th>\n      <th>budget</th>\n      <th>popularity</th>\n      <th>production_companies</th>\n      <th>production_countries</th>\n      <th>revenue</th>\n      <th>runtime</th>\n      <th>status</th>\n      <th>vote_avg</th>\n      <th>vote_count</th>\n    </tr>\n  </thead>\n  <tbody>\n    <tr>\n      <th>0</th>\n      <td>Me contro Te: Il film - La vendetta del Signor S</td>\n      <td>[Comedy, Family]</td>\n      <td>75000</td>\n      <td>6.904</td>\n      <td>[Colorado Film, Warner Bros Pictures Italia, M...</td>\n      <td>[Italy]</td>\n      <td>0</td>\n      <td>0</td>\n      <td>Released</td>\n      <td>8.4</td>\n      <td>387</td>\n    </tr>\n    <tr>\n      <th>1</th>\n      <td>Veinteañera, divorciada y fantástica</td>\n      <td>[Comedy]</td>\n      <td>0</td>\n      <td>171.824</td>\n      <td>[Different Films, All About Media]</td>\n      <td>[Mexico]</td>\n      <td>0</td>\n      <td>93</td>\n      <td>Released</td>\n      <td>8.2</td>\n      <td>297</td>\n    </tr>\n    <tr>\n      <th>2</th>\n      <td>My Octopus Teacher</td>\n      <td>[Documentary]</td>\n      <td>0</td>\n      <td>22.802</td>\n      <td>[]</td>\n      <td>[South Africa]</td>\n      <td>0</td>\n      <td>84</td>\n      <td>Released</td>\n      <td>8.3</td>\n      <td>144</td>\n    </tr>\n    <tr>\n      <th>3</th>\n      <td>Mortal Kombat Legends: Scorpion's Revenge</td>\n      <td>[Fantasy, Action, Adventure, Animation]</td>\n      <td>0</td>\n      <td>823.472</td>\n      <td>[Warner Bros. Animation, NetherRealm Studios]</td>\n      <td>[United States of America]</td>\n      <td>0</td>\n      <td>80</td>\n      <td>Released</td>\n      <td>8.4</td>\n      <td>728</td>\n    </tr>\n    <tr>\n      <th>4</th>\n      <td>Justice League Dark: Apokolips War</td>\n      <td>[Animation, Action, Adventure, Fantasy, Scienc...</td>\n      <td>0</td>\n      <td>44.445</td>\n      <td>[Warner Bros. Animation, DC Entertainment, DC ...</td>\n      <td>[United States of America]</td>\n      <td>0</td>\n      <td>90</td>\n      <td>Released</td>\n      <td>8.4</td>\n      <td>864</td>\n    </tr>\n  </tbody>\n</table>\n</div>"
     },
     "metadata": {},
     "execution_count": 4
    }
   ],
   "source": [
    "# Display results per vote average\n",
    "re_json = dbQueries.getTopVoteAvg(10)\n",
    "df = pd.DataFrame.from_dict(re_json)\n",
    "df.head(5)\n",
    "# "
   ]
  },
  {
   "cell_type": "code",
   "execution_count": 5,
   "metadata": {},
   "outputs": [
    {
     "output_type": "execute_result",
     "data": {
      "text/plain": [
       "                                              title  \\\n",
       "0  Me contro Te: Il film - La vendetta del Signor S   \n",
       "1              Veinteañera, divorciada y fantástica   \n",
       "2                                My Octopus Teacher   \n",
       "3         Mortal Kombat Legends: Scorpion's Revenge   \n",
       "4                Justice League Dark: Apokolips War   \n",
       "\n",
       "                                              genres  budget  popularity  \\\n",
       "0                                   [Comedy, Family]   75000       6.904   \n",
       "1                                           [Comedy]       0     171.824   \n",
       "2                                      [Documentary]       0      22.802   \n",
       "3            [Fantasy, Action, Adventure, Animation]       0     823.472   \n",
       "4  [Animation, Action, Adventure, Fantasy, Scienc...       0      44.445   \n",
       "\n",
       "                                production_companies  \\\n",
       "0  [Colorado Film, Warner Bros Pictures Italia, M...   \n",
       "1                 [Different Films, All About Media]   \n",
       "2                                                 []   \n",
       "3      [Warner Bros. Animation, NetherRealm Studios]   \n",
       "4  [Warner Bros. Animation, DC Entertainment, DC ...   \n",
       "\n",
       "         production_countries  revenue  runtime    status  vote_avg  \\\n",
       "0                     [Italy]        0        0  Released       8.4   \n",
       "1                    [Mexico]        0       93  Released       8.2   \n",
       "2              [South Africa]        0       84  Released       8.3   \n",
       "3  [United States of America]        0       80  Released       8.4   \n",
       "4  [United States of America]        0       90  Released       8.4   \n",
       "\n",
       "   vote_count  \n",
       "0         387  \n",
       "1         297  \n",
       "2         144  \n",
       "3         728  \n",
       "4         864  "
      ],
      "text/html": "<div>\n<style scoped>\n    .dataframe tbody tr th:only-of-type {\n        vertical-align: middle;\n    }\n\n    .dataframe tbody tr th {\n        vertical-align: top;\n    }\n\n    .dataframe thead th {\n        text-align: right;\n    }\n</style>\n<table border=\"1\" class=\"dataframe\">\n  <thead>\n    <tr style=\"text-align: right;\">\n      <th></th>\n      <th>title</th>\n      <th>genres</th>\n      <th>budget</th>\n      <th>popularity</th>\n      <th>production_companies</th>\n      <th>production_countries</th>\n      <th>revenue</th>\n      <th>runtime</th>\n      <th>status</th>\n      <th>vote_avg</th>\n      <th>vote_count</th>\n    </tr>\n  </thead>\n  <tbody>\n    <tr>\n      <th>0</th>\n      <td>Me contro Te: Il film - La vendetta del Signor S</td>\n      <td>[Comedy, Family]</td>\n      <td>75000</td>\n      <td>6.904</td>\n      <td>[Colorado Film, Warner Bros Pictures Italia, M...</td>\n      <td>[Italy]</td>\n      <td>0</td>\n      <td>0</td>\n      <td>Released</td>\n      <td>8.4</td>\n      <td>387</td>\n    </tr>\n    <tr>\n      <th>1</th>\n      <td>Veinteañera, divorciada y fantástica</td>\n      <td>[Comedy]</td>\n      <td>0</td>\n      <td>171.824</td>\n      <td>[Different Films, All About Media]</td>\n      <td>[Mexico]</td>\n      <td>0</td>\n      <td>93</td>\n      <td>Released</td>\n      <td>8.2</td>\n      <td>297</td>\n    </tr>\n    <tr>\n      <th>2</th>\n      <td>My Octopus Teacher</td>\n      <td>[Documentary]</td>\n      <td>0</td>\n      <td>22.802</td>\n      <td>[]</td>\n      <td>[South Africa]</td>\n      <td>0</td>\n      <td>84</td>\n      <td>Released</td>\n      <td>8.3</td>\n      <td>144</td>\n    </tr>\n    <tr>\n      <th>3</th>\n      <td>Mortal Kombat Legends: Scorpion's Revenge</td>\n      <td>[Fantasy, Action, Adventure, Animation]</td>\n      <td>0</td>\n      <td>823.472</td>\n      <td>[Warner Bros. Animation, NetherRealm Studios]</td>\n      <td>[United States of America]</td>\n      <td>0</td>\n      <td>80</td>\n      <td>Released</td>\n      <td>8.4</td>\n      <td>728</td>\n    </tr>\n    <tr>\n      <th>4</th>\n      <td>Justice League Dark: Apokolips War</td>\n      <td>[Animation, Action, Adventure, Fantasy, Scienc...</td>\n      <td>0</td>\n      <td>44.445</td>\n      <td>[Warner Bros. Animation, DC Entertainment, DC ...</td>\n      <td>[United States of America]</td>\n      <td>0</td>\n      <td>90</td>\n      <td>Released</td>\n      <td>8.4</td>\n      <td>864</td>\n    </tr>\n  </tbody>\n</table>\n</div>"
     },
     "metadata": {},
     "execution_count": 5
    }
   ],
   "source": [
    "# Display results per revenue\n",
    "re_json = dbQueries.getTopMoreRevenue(10)\n",
    "df = pd.DataFrame.from_dict(re_json)\n",
    "df.head(5)"
   ]
  }
 ]
}